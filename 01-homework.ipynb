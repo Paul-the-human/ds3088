{
 "cells": [
  {
   "cell_type": "markdown",
   "id": "a9274f7e-5793-45e0-bbf9-e354c68dbba2",
   "metadata": {},
   "source": [
    "# Домашнее задание"
   ]
  },
  {
   "cell_type": "markdown",
   "id": "96c47b9d-bcc4-44e8-a94c-c69d6ad2aa50",
   "metadata": {},
   "source": [
    "## Easy"
   ]
  },
  {
   "cell_type": "markdown",
   "id": "576e1012-ce1b-4e17-a86e-e123595687b2",
   "metadata": {},
   "source": [
    "Напишите функцию, которая:\n",
    "- принимает одно число в качестве аргумента;\n",
    "- возвращает обратное число (1/x)."
   ]
  },
  {
   "cell_type": "code",
   "execution_count": 3,
   "id": "d977f117-f149-41f3-808e-c870751ecd63",
   "metadata": {
    "ExecuteTime": {
     "end_time": "2023-10-07T18:08:44.419815342Z",
     "start_time": "2023-10-07T18:08:44.375529244Z"
    }
   },
   "outputs": [],
   "source": [
    "def inv(x):\n",
    "    return 1 / x"
   ]
  },
  {
   "cell_type": "markdown",
   "id": "fa802dde-423e-4d2a-9cec-4a4b95dbc00c",
   "metadata": {},
   "source": [
    "Проверьте результат, например:"
   ]
  },
  {
   "cell_type": "code",
   "execution_count": 4,
   "id": "8d3e4af6-f13e-44d3-84f9-05a598cc1035",
   "metadata": {
    "ExecuteTime": {
     "end_time": "2023-10-07T18:08:47.458789893Z",
     "start_time": "2023-10-07T18:08:47.453456361Z"
    }
   },
   "outputs": [
    {
     "data": {
      "text/plain": "True"
     },
     "execution_count": 4,
     "metadata": {},
     "output_type": "execute_result"
    }
   ],
   "source": [
    "# Должно быть истинно:\n",
    "inv(5) == 0.2 "
   ]
  },
  {
   "cell_type": "markdown",
   "id": "27d27d87-a7e3-4063-a3c0-4cd51483f388",
   "metadata": {},
   "source": [
    "Что случится, если в функцию передать 0? Напишите ответ в ячейке ниже:"
   ]
  },
  {
   "cell_type": "markdown",
   "id": "084dd433-e537-4b5e-8efa-ae502c41572c",
   "metadata": {},
   "source": [
    "Ответ: ZeroDivisionError: division by zero (Нельзя делить на ноль)"
   ]
  },
  {
   "cell_type": "markdown",
   "id": "35720bfe-4e35-4007-be64-695807038de7",
   "metadata": {},
   "source": [
    "## Normal"
   ]
  },
  {
   "cell_type": "markdown",
   "id": "6f6ae64e-316f-4dac-99e0-f9591de7471b",
   "metadata": {},
   "source": [
    "Напишите функцию, которая принимает список целых чисел и возвращает медиану.\n",
    "\n",
    "Алгоритм нахождения медианы:\n",
    "- список сортируется;\n",
    "- если число элементов нечетное, возвращается центральный элемент отсортированного списка;\n",
    "- если число элементов четное, возвращается среднее арифметическое двух соседних элементов в середине отсортированнного списка."
   ]
  },
  {
   "cell_type": "code",
   "execution_count": 23,
   "id": "b7764a88-3c89-4b0f-8057-777f6b9d2844",
   "metadata": {
    "ExecuteTime": {
     "end_time": "2023-10-07T18:23:32.110615477Z",
     "start_time": "2023-10-07T18:23:32.068553098Z"
    }
   },
   "outputs": [],
   "source": [
    "def median(array):\n",
    "    sorted_array = sorted(array)\n",
    "    length = len(sorted_array)\n",
    "    if length % 2 == 0:\n",
    "        left = sorted_array[length // 2 - 1]\n",
    "        right = sorted_array[length // 2]\n",
    "        return (left + right) / 2\n",
    "    else:\n",
    "        central = length // 2\n",
    "        return sorted_array[central]\n"
   ]
  },
  {
   "cell_type": "markdown",
   "id": "1ca2956f-4556-4f45-8b80-8b0906378809",
   "metadata": {},
   "source": [
    "Проверьте результат, например:"
   ]
  },
  {
   "cell_type": "code",
   "execution_count": 24,
   "id": "8f76a4d8-10e1-4d31-a202-e4e363fe0507",
   "metadata": {
    "ExecuteTime": {
     "end_time": "2023-10-07T18:23:34.723332068Z",
     "start_time": "2023-10-07T18:23:34.718695198Z"
    }
   },
   "outputs": [
    {
     "data": {
      "text/plain": "True"
     },
     "execution_count": 24,
     "metadata": {},
     "output_type": "execute_result"
    }
   ],
   "source": [
    "# Должно быть истинно:\n",
    "median([1, 4, 6, 5, 2, 100]) == 4.5"
   ]
  },
  {
   "cell_type": "code",
   "execution_count": 25,
   "id": "4579a28d-c523-447b-a064-4c4ab080d6e5",
   "metadata": {
    "ExecuteTime": {
     "end_time": "2023-10-07T18:23:36.647037500Z",
     "start_time": "2023-10-07T18:23:36.641356075Z"
    }
   },
   "outputs": [
    {
     "data": {
      "text/plain": "True"
     },
     "execution_count": 25,
     "metadata": {},
     "output_type": "execute_result"
    }
   ],
   "source": [
    "# Должно быть истинно:\n",
    "median([25, 1, 4, 6, 5, 2, 100]) == 5"
   ]
  },
  {
   "cell_type": "markdown",
   "id": "3024c6b3-315c-43ab-8e69-86fd5b64ac64",
   "metadata": {},
   "source": [
    "Какого типа получилось возвращамое значение? Напишите ответ в ячейке ниже:"
   ]
  },
  {
   "cell_type": "markdown",
   "id": "b81b9e11-7152-4503-8ac2-7ad4ba81eaef",
   "metadata": {},
   "source": [
    "Ответ: int или float"
   ]
  },
  {
   "cell_type": "markdown",
   "id": "dd797b59-a07d-463c-b5b1-9350b0ff73c3",
   "metadata": {},
   "source": [
    "## Hard"
   ]
  },
  {
   "cell_type": "markdown",
   "id": "42341073-cb0c-430f-9ffe-8973298f69d6",
   "metadata": {},
   "source": [
    "Ознакомьтесь самостоятельно с основными методами для работы со строками (https://docs.python.org/3/library/stdtypes.html#string-methods) и документацией к стандартной функции `sorted()` (https://docs.python.org/3/howto/sorting.html).\n",
    "\n",
    "Напишите функцию, которая:\n",
    "- принимает на вход список файлов с расширениями;\n",
    "- возвращает список, отсортированный *по расширению* в алфавитном порядке(a-z).\n",
    "\n",
    "У файла может быть только одно расширение."
   ]
  },
  {
   "cell_type": "code",
   "execution_count": 58,
   "id": "804238ff-affc-40c5-8787-7f47e44115dc",
   "metadata": {
    "ExecuteTime": {
     "end_time": "2023-10-07T18:50:06.015982098Z",
     "start_time": "2023-10-07T18:50:06.010348418Z"
    }
   },
   "outputs": [],
   "source": [
    "def sort_by_ext(array):\n",
    "    splited_names = [\n",
    "        e.split(\".\")\n",
    "        for e in array if e\n",
    "    ]\n",
    "    # единица это расширение\n",
    "    splited_names.sort(key=lambda x: x[1])\n",
    "    return [\".\".join(i) for i in splited_names]\n",
    "\n",
    "    "
   ]
  },
  {
   "cell_type": "markdown",
   "id": "8b39fa7a-14b5-4c93-8850-5fe082d99265",
   "metadata": {},
   "source": [
    "Проверьте результат:"
   ]
  },
  {
   "cell_type": "code",
   "execution_count": 62,
   "id": "fd245e08-6d5b-4bd2-9122-fac65f275a93",
   "metadata": {
    "ExecuteTime": {
     "end_time": "2023-10-07T18:55:48.843260151Z",
     "start_time": "2023-10-07T18:55:48.794996263Z"
    }
   },
   "outputs": [
    {
     "data": {
      "text/plain": "True"
     },
     "execution_count": 62,
     "metadata": {},
     "output_type": "execute_result"
    }
   ],
   "source": [
    "# Должно быть истинно:\n",
    "sort_by_ext([\"1.cad\", \"1.bat\", \"1.aa\"]) == [\"1.aa\", \"1.bat\", \"1.cad\"]"
   ]
  },
  {
   "cell_type": "markdown",
   "id": "0ea95a67-6b09-4004-968b-cddeef4e9ee3",
   "metadata": {},
   "source": [
    "Как ваша функция справляется с крайними случаями?\n",
    "- пустая строка;\n",
    "- файл без имени, но с расширением;\n",
    "- файл с пустым расширением (точка присутствует, например `file.`)\n",
    "\n",
    "Напишите ответ в ячейке ниже:"
   ]
  },
  {
   "cell_type": "markdown",
   "id": "b007c71d-5792-41b0-98ca-72fc6d3e7a82",
   "metadata": {},
   "source": [
    "Ответ:\n",
    "    - код отработает, пустой строки не будет в результирующем списке\n",
    "    - код отработает, сортировка пройдет корректно\n",
    "    - код отработает, расширение будет пустой строкой и при сортировке будет попадать в начало списка"
   ]
  },
  {
   "cell_type": "code",
   "execution_count": 61,
   "outputs": [
    {
     "data": {
      "text/plain": "True"
     },
     "execution_count": 61,
     "metadata": {},
     "output_type": "execute_result"
    }
   ],
   "source": [
    "sort_by_ext([\"1.cad\", \"1.bat\", \"1.aa\", \".car\"]) == [\"1.aa\", \"1.bat\", \"1.cad\", \".car\"]"
   ],
   "metadata": {
    "collapsed": false,
    "ExecuteTime": {
     "end_time": "2023-10-07T18:50:13.950041851Z",
     "start_time": "2023-10-07T18:50:13.945446197Z"
    }
   },
   "id": "da31ef3b54386e78"
  },
  {
   "cell_type": "code",
   "execution_count": 60,
   "outputs": [
    {
     "data": {
      "text/plain": "True"
     },
     "execution_count": 60,
     "metadata": {},
     "output_type": "execute_result"
    }
   ],
   "source": [
    "\n",
    "sort_by_ext([\"1.cad\", \"1.bat\", \"1.aa\", \"file.\"]) == [\"file.\", \"1.aa\", \"1.bat\", \"1.cad\"]"
   ],
   "metadata": {
    "collapsed": false,
    "ExecuteTime": {
     "end_time": "2023-10-07T18:50:11.326663488Z",
     "start_time": "2023-10-07T18:50:11.322963340Z"
    }
   },
   "id": "e26f24a9aedc3021"
  },
  {
   "cell_type": "code",
   "execution_count": 59,
   "outputs": [
    {
     "data": {
      "text/plain": "True"
     },
     "execution_count": 59,
     "metadata": {},
     "output_type": "execute_result"
    }
   ],
   "source": [
    "sort_by_ext([\"1.cad\", \"1.bat\", \"1.aa\", \"\"]) == [\"1.aa\", \"1.bat\", \"1.cad\"]"
   ],
   "metadata": {
    "collapsed": false,
    "ExecuteTime": {
     "end_time": "2023-10-07T18:50:09.316590135Z",
     "start_time": "2023-10-07T18:50:09.313525652Z"
    }
   },
   "id": "d315abe0ecde84d9"
  },
  {
   "cell_type": "code",
   "execution_count": null,
   "outputs": [],
   "source": [],
   "metadata": {
    "collapsed": false
   },
   "id": "60995e9f691a2797"
  }
 ],
 "metadata": {
  "kernelspec": {
   "display_name": "Python 3 (ipykernel)",
   "language": "python",
   "name": "python3"
  },
  "language_info": {
   "codemirror_mode": {
    "name": "ipython",
    "version": 3
   },
   "file_extension": ".py",
   "mimetype": "text/x-python",
   "name": "python",
   "nbconvert_exporter": "python",
   "pygments_lexer": "ipython3",
   "version": "3.11.3"
  },
  "widgets": {
   "application/vnd.jupyter.widget-state+json": {
    "state": {},
    "version_major": 2,
    "version_minor": 0
   }
  }
 },
 "nbformat": 4,
 "nbformat_minor": 5
}
