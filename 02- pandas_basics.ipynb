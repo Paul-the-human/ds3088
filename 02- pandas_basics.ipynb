{
 "cells": [
  {
   "cell_type": "markdown",
   "source": [
    "# Основы Pandas"
   ],
   "metadata": {
    "collapsed": false
   },
   "id": "a4b39641"
  },
  {
   "cell_type": "markdown",
   "source": [
    "## Загрузка данных"
   ],
   "metadata": {
    "collapsed": false
   },
   "id": "2bdfb4ef"
  },
  {
   "cell_type": "code",
   "execution_count": 50,
   "outputs": [],
   "source": [
    "import numpy as np\n",
    "import pandas as pd"
   ],
   "metadata": {
    "collapsed": false,
    "ExecuteTime": {
     "end_time": "2023-10-14T17:36:09.449589643Z",
     "start_time": "2023-10-14T17:36:09.442764915Z"
    }
   },
   "id": "58047299"
  },
  {
   "cell_type": "code",
   "execution_count": 114,
   "outputs": [
    {
     "data": {
      "text/plain": "      work_year experience_level employment_type                 job_title  \\\n0          2023               SE              FT  Principal Data Scientist   \n1          2023               MI              CT               ML Engineer   \n2          2023               MI              CT               ML Engineer   \n3          2023               SE              FT            Data Scientist   \n4          2023               SE              FT            Data Scientist   \n...         ...              ...             ...                       ...   \n3750       2020               SE              FT            Data Scientist   \n3751       2021               MI              FT  Principal Data Scientist   \n3752       2020               EN              FT            Data Scientist   \n3753       2020               EN              CT     Business Data Analyst   \n3754       2021               SE              FT      Data Science Manager   \n\n       salary salary_currency  salary_in_usd employee_residence  remote_ratio  \\\n0       80000             EUR        85847.0                 ES           100   \n1       30000             USD        30000.0                 US           100   \n2       25500             USD        25500.0                 US           100   \n3      175000             USD       175000.0                 CA           100   \n4      120000             USD       120000.0                 CA           100   \n...       ...             ...            ...                ...           ...   \n3750   412000             USD       412000.0                 US           100   \n3751   151000             USD       151000.0                 US           100   \n3752   105000             USD       105000.0                 US           100   \n3753   100000             USD       100000.0                 US           100   \n3754  7000000             INR        94665.0                 IN            50   \n\n     company_location company_size  \n0                  ES            L  \n1                  US            S  \n2                  US            S  \n3                  CA            M  \n4                  CA            M  \n...               ...          ...  \n3750               US            L  \n3751               US            L  \n3752               US            S  \n3753               US            L  \n3754               IN            L  \n\n[3755 rows x 11 columns]",
      "text/html": "<div>\n<style scoped>\n    .dataframe tbody tr th:only-of-type {\n        vertical-align: middle;\n    }\n\n    .dataframe tbody tr th {\n        vertical-align: top;\n    }\n\n    .dataframe thead th {\n        text-align: right;\n    }\n</style>\n<table border=\"1\" class=\"dataframe\">\n  <thead>\n    <tr style=\"text-align: right;\">\n      <th></th>\n      <th>work_year</th>\n      <th>experience_level</th>\n      <th>employment_type</th>\n      <th>job_title</th>\n      <th>salary</th>\n      <th>salary_currency</th>\n      <th>salary_in_usd</th>\n      <th>employee_residence</th>\n      <th>remote_ratio</th>\n      <th>company_location</th>\n      <th>company_size</th>\n    </tr>\n  </thead>\n  <tbody>\n    <tr>\n      <th>0</th>\n      <td>2023</td>\n      <td>SE</td>\n      <td>FT</td>\n      <td>Principal Data Scientist</td>\n      <td>80000</td>\n      <td>EUR</td>\n      <td>85847.0</td>\n      <td>ES</td>\n      <td>100</td>\n      <td>ES</td>\n      <td>L</td>\n    </tr>\n    <tr>\n      <th>1</th>\n      <td>2023</td>\n      <td>MI</td>\n      <td>CT</td>\n      <td>ML Engineer</td>\n      <td>30000</td>\n      <td>USD</td>\n      <td>30000.0</td>\n      <td>US</td>\n      <td>100</td>\n      <td>US</td>\n      <td>S</td>\n    </tr>\n    <tr>\n      <th>2</th>\n      <td>2023</td>\n      <td>MI</td>\n      <td>CT</td>\n      <td>ML Engineer</td>\n      <td>25500</td>\n      <td>USD</td>\n      <td>25500.0</td>\n      <td>US</td>\n      <td>100</td>\n      <td>US</td>\n      <td>S</td>\n    </tr>\n    <tr>\n      <th>3</th>\n      <td>2023</td>\n      <td>SE</td>\n      <td>FT</td>\n      <td>Data Scientist</td>\n      <td>175000</td>\n      <td>USD</td>\n      <td>175000.0</td>\n      <td>CA</td>\n      <td>100</td>\n      <td>CA</td>\n      <td>M</td>\n    </tr>\n    <tr>\n      <th>4</th>\n      <td>2023</td>\n      <td>SE</td>\n      <td>FT</td>\n      <td>Data Scientist</td>\n      <td>120000</td>\n      <td>USD</td>\n      <td>120000.0</td>\n      <td>CA</td>\n      <td>100</td>\n      <td>CA</td>\n      <td>M</td>\n    </tr>\n    <tr>\n      <th>...</th>\n      <td>...</td>\n      <td>...</td>\n      <td>...</td>\n      <td>...</td>\n      <td>...</td>\n      <td>...</td>\n      <td>...</td>\n      <td>...</td>\n      <td>...</td>\n      <td>...</td>\n      <td>...</td>\n    </tr>\n    <tr>\n      <th>3750</th>\n      <td>2020</td>\n      <td>SE</td>\n      <td>FT</td>\n      <td>Data Scientist</td>\n      <td>412000</td>\n      <td>USD</td>\n      <td>412000.0</td>\n      <td>US</td>\n      <td>100</td>\n      <td>US</td>\n      <td>L</td>\n    </tr>\n    <tr>\n      <th>3751</th>\n      <td>2021</td>\n      <td>MI</td>\n      <td>FT</td>\n      <td>Principal Data Scientist</td>\n      <td>151000</td>\n      <td>USD</td>\n      <td>151000.0</td>\n      <td>US</td>\n      <td>100</td>\n      <td>US</td>\n      <td>L</td>\n    </tr>\n    <tr>\n      <th>3752</th>\n      <td>2020</td>\n      <td>EN</td>\n      <td>FT</td>\n      <td>Data Scientist</td>\n      <td>105000</td>\n      <td>USD</td>\n      <td>105000.0</td>\n      <td>US</td>\n      <td>100</td>\n      <td>US</td>\n      <td>S</td>\n    </tr>\n    <tr>\n      <th>3753</th>\n      <td>2020</td>\n      <td>EN</td>\n      <td>CT</td>\n      <td>Business Data Analyst</td>\n      <td>100000</td>\n      <td>USD</td>\n      <td>100000.0</td>\n      <td>US</td>\n      <td>100</td>\n      <td>US</td>\n      <td>L</td>\n    </tr>\n    <tr>\n      <th>3754</th>\n      <td>2021</td>\n      <td>SE</td>\n      <td>FT</td>\n      <td>Data Science Manager</td>\n      <td>7000000</td>\n      <td>INR</td>\n      <td>94665.0</td>\n      <td>IN</td>\n      <td>50</td>\n      <td>IN</td>\n      <td>L</td>\n    </tr>\n  </tbody>\n</table>\n<p>3755 rows × 11 columns</p>\n</div>"
     },
     "execution_count": 114,
     "metadata": {},
     "output_type": "execute_result"
    }
   ],
   "source": [
    "df = pd.read_csv('ds_salaries_mod.csv')\n",
    "df"
   ],
   "metadata": {
    "collapsed": false,
    "ExecuteTime": {
     "end_time": "2023-10-14T20:40:47.524990094Z",
     "start_time": "2023-10-14T20:40:47.498011109Z"
    }
   },
   "id": "f8862352"
  },
  {
   "cell_type": "markdown",
   "id": "4a449875-082c-4a85-8113-face21de6816",
   "metadata": {},
   "source": [
    "# Домашнее задание"
   ]
  },
  {
   "cell_type": "markdown",
   "id": "8c77d5dc-70c6-4580-803f-810cfe2ea606",
   "metadata": {},
   "source": [
    "## Easy"
   ]
  },
  {
   "cell_type": "markdown",
   "id": "dafd166a-4919-4b9a-9b41-d52a113275eb",
   "metadata": {},
   "source": [
    "Изучите распределение размеров компаний (`company_size`) с помощью метода `.value_counts()`. Опишите своими словами, что вы увидели."
   ]
  },
  {
   "cell_type": "code",
   "execution_count": 104,
   "id": "7313a3a6-0259-4f38-a8d8-4f994f236ba1",
   "metadata": {
    "ExecuteTime": {
     "end_time": "2023-10-14T20:33:22.701057504Z",
     "start_time": "2023-10-14T20:33:22.691660814Z"
    }
   },
   "outputs": [
    {
     "data": {
      "text/plain": "company_size\nM    3153\nL     454\nS     148\nName: count, dtype: int64"
     },
     "execution_count": 104,
     "metadata": {},
     "output_type": "execute_result"
    }
   ],
   "source": [
    "# Ваш код ниже:\n",
    "df.value_counts(\"company_size\")"
   ]
  },
  {
   "cell_type": "markdown",
   "id": "098d5028-f53a-495c-b4a9-7dc7ca7e23c0",
   "metadata": {},
   "source": [
    "Вывод: Самые распространенные это M, далее идут L и самое маленькое количество компаний S."
   ]
  },
  {
   "cell_type": "markdown",
   "id": "268cafb2-f782-44da-ad5b-95469917e78e",
   "metadata": {},
   "source": [
    "## Normal"
   ]
  },
  {
   "cell_type": "markdown",
   "id": "5ef0c324-4742-43f1-879f-ea851395f428",
   "metadata": {},
   "source": [
    "Сделайте выборку за 2023 год. Постройте по ней сводную таблицу, сгруппированную по размеру компании-работодателя (`company_size`), со средней и медианной зарплатой в долларах. Не забывайте также указать количество."
   ]
  },
  {
   "cell_type": "code",
   "execution_count": 105,
   "id": "0eb74644-ecef-416c-848a-b7293fc105a6",
   "metadata": {
    "ExecuteTime": {
     "end_time": "2023-10-14T20:33:27.096794213Z",
     "start_time": "2023-10-14T20:33:27.072803658Z"
    }
   },
   "outputs": [
    {
     "data": {
      "text/plain": "              count           mean    median\ncompany_size                                \nL                71  138622.845070  126100.0\nM              1275  151126.316078  145000.0\nS                17   73632.647059   53654.0",
      "text/html": "<div>\n<style scoped>\n    .dataframe tbody tr th:only-of-type {\n        vertical-align: middle;\n    }\n\n    .dataframe tbody tr th {\n        vertical-align: top;\n    }\n\n    .dataframe thead th {\n        text-align: right;\n    }\n</style>\n<table border=\"1\" class=\"dataframe\">\n  <thead>\n    <tr style=\"text-align: right;\">\n      <th></th>\n      <th>count</th>\n      <th>mean</th>\n      <th>median</th>\n    </tr>\n    <tr>\n      <th>company_size</th>\n      <th></th>\n      <th></th>\n      <th></th>\n    </tr>\n  </thead>\n  <tbody>\n    <tr>\n      <th>L</th>\n      <td>71</td>\n      <td>138622.845070</td>\n      <td>126100.0</td>\n    </tr>\n    <tr>\n      <th>M</th>\n      <td>1275</td>\n      <td>151126.316078</td>\n      <td>145000.0</td>\n    </tr>\n    <tr>\n      <th>S</th>\n      <td>17</td>\n      <td>73632.647059</td>\n      <td>53654.0</td>\n    </tr>\n  </tbody>\n</table>\n</div>"
     },
     "execution_count": 105,
     "metadata": {},
     "output_type": "execute_result"
    }
   ],
   "source": [
    "# Ваш код ниже:\n",
    "df_2023 = df[df[\"work_year\"] == 2023]\n",
    "df_2023.groupby(\"company_size\")['salary_in_usd'].agg(['count', 'mean', 'median'])"
   ]
  },
  {
   "cell_type": "markdown",
   "id": "52f0a6a4-3fb5-48b5-9e9a-adfafcd84f5f",
   "metadata": {},
   "source": [
    "Напишите краткий вывод из полученной таблицы:"
   ]
  },
  {
   "cell_type": "markdown",
   "id": "04472859-0e11-4bfc-bb67-402cf5dd5a94",
   "metadata": {},
   "source": [
    "Вывод: Количество повторяет вывод в задаче easy.\n",
    "Из-за малого числа компаний S врядли можно считать данные о зп в маленьких компаниях надежными.\n",
    "Наиболее большие зарплаты в средних компаниях.\n",
    "Зарплаты в маленьких компаниях сильно меньше. \n",
    "Для компаний L, M медиана и среднее приблизительно одинаковы.\n",
    "Для S же они ощутимо отличаются."
   ]
  },
  {
   "cell_type": "markdown",
   "id": "06fd85fc-8793-497b-b144-7fb492d56e6a",
   "metadata": {},
   "source": [
    "Аналогично исследуйте 2022 год. Есть ли отличия?"
   ]
  },
  {
   "cell_type": "code",
   "execution_count": 106,
   "id": "6e1fd53e-19a5-4aec-9f7d-1c4bcb8b486e",
   "metadata": {
    "ExecuteTime": {
     "end_time": "2023-10-14T20:33:30.913223802Z",
     "start_time": "2023-10-14T20:33:30.864742814Z"
    }
   },
   "outputs": [
    {
     "data": {
      "text/plain": "              count           mean    median\ncompany_size                                \nL               143  120581.482517  120000.0\nM              1096  137245.859489  135000.0\nS                40   75092.325000   58000.0",
      "text/html": "<div>\n<style scoped>\n    .dataframe tbody tr th:only-of-type {\n        vertical-align: middle;\n    }\n\n    .dataframe tbody tr th {\n        vertical-align: top;\n    }\n\n    .dataframe thead th {\n        text-align: right;\n    }\n</style>\n<table border=\"1\" class=\"dataframe\">\n  <thead>\n    <tr style=\"text-align: right;\">\n      <th></th>\n      <th>count</th>\n      <th>mean</th>\n      <th>median</th>\n    </tr>\n    <tr>\n      <th>company_size</th>\n      <th></th>\n      <th></th>\n      <th></th>\n    </tr>\n  </thead>\n  <tbody>\n    <tr>\n      <th>L</th>\n      <td>143</td>\n      <td>120581.482517</td>\n      <td>120000.0</td>\n    </tr>\n    <tr>\n      <th>M</th>\n      <td>1096</td>\n      <td>137245.859489</td>\n      <td>135000.0</td>\n    </tr>\n    <tr>\n      <th>S</th>\n      <td>40</td>\n      <td>75092.325000</td>\n      <td>58000.0</td>\n    </tr>\n  </tbody>\n</table>\n</div>"
     },
     "execution_count": 106,
     "metadata": {},
     "output_type": "execute_result"
    }
   ],
   "source": [
    "# Ваш код ниже:\n",
    "df_2022 = df[df[\"work_year\"] == 2022]\n",
    "df_2022.groupby(\"company_size\")['salary_in_usd'].agg(['count', 'mean', 'median'])"
   ]
  },
  {
   "cell_type": "markdown",
   "id": "bcdab071-f3bc-4a7d-80c8-32a65e2f721c",
   "metadata": {},
   "source": [
    "Вывод: Данные о компаниях L и M в целом похожи, наблюдается рост зп от 22 года к 23.\n",
    "Для компаний S данный тоже похожи между годами, что дает возможность с большей уверенностью сказать, зарплаты в маленьких компаниях сильно меньше чем в L и M.\n",
    "Так же наблюдается падение зп 22 года к 23 в компаниях S."
   ]
  },
  {
   "cell_type": "markdown",
   "id": "bc00cafa-a831-42b2-b0bd-042322c7ab63",
   "metadata": {},
   "source": [
    "## Hard"
   ]
  },
  {
   "cell_type": "markdown",
   "id": "24abf10f-81e4-4e3b-8d80-6f87b5b8c6a6",
   "metadata": {},
   "source": [
    "Для начала попробуйте восстановить пропущенные значения `salary_in_usd`."
   ]
  },
  {
   "cell_type": "markdown",
   "id": "f75ab23c-0422-4966-a691-e8a1aa5a9ef4",
   "metadata": {},
   "source": [
    "<details>\n",
    "<summary>Подсказка (нажмите, чтобы посмотреть):</summary>\n",
    "Один из способов:\n",
    "    <ul><li>создайте дополнительный столбец с \"курсом доллара\" для каждого наблюдения;</li>\n",
    "    <li>проверьте, менялся ли курс каждой валюты в течение года;</li>\n",
    "    <li>по возможности примените этот курс для расчета пропущенного значения;</li>\n",
    "    <li>если остались пропуски, которые нельзя заполнить, удалите их.</li></ul>    \n",
    "</details>"
   ]
  },
  {
   "cell_type": "markdown",
   "id": "f8e8bd10-1a01-40fe-959d-bf0c9ab1a774",
   "metadata": {},
   "source": [
    "Оставляйте комментарии в коде своего решения."
   ]
  },
  {
   "cell_type": "code",
   "execution_count": 107,
   "id": "75f9770b-8961-467f-b383-827ca354f87b",
   "metadata": {
    "ExecuteTime": {
     "end_time": "2023-10-14T20:33:36.206946931Z",
     "start_time": "2023-10-14T20:33:36.164356879Z"
    }
   },
   "outputs": [
    {
     "data": {
      "text/plain": "      work_year experience_level employment_type                 job_title  \\\n0          2023               SE              FT  Principal Data Scientist   \n1          2023               MI              CT               ML Engineer   \n2          2023               MI              CT               ML Engineer   \n3          2023               SE              FT            Data Scientist   \n4          2023               SE              FT            Data Scientist   \n...         ...              ...             ...                       ...   \n3750       2020               SE              FT            Data Scientist   \n3751       2021               MI              FT  Principal Data Scientist   \n3752       2020               EN              FT            Data Scientist   \n3753       2020               EN              CT     Business Data Analyst   \n3754       2021               SE              FT      Data Science Manager   \n\n       salary salary_currency  salary_in_usd employee_residence  remote_ratio  \\\n0       80000             EUR        85847.0                 ES           100   \n1       30000             USD        30000.0                 US           100   \n2       25500             USD        25500.0                 US           100   \n3      175000             USD       175000.0                 CA           100   \n4      120000             USD       120000.0                 CA           100   \n...       ...             ...            ...                ...           ...   \n3750   412000             USD       412000.0                 US           100   \n3751   151000             USD       151000.0                 US           100   \n3752   105000             USD       105000.0                 US           100   \n3753   100000             USD       100000.0                 US           100   \n3754  7000000             INR        94665.0                 IN            50   \n\n     company_location company_size   ex_rate  \n0                  ES            L  1.073087  \n1                  US            S  1.000000  \n2                  US            S  1.000000  \n3                  CA            M  1.000000  \n4                  CA            M  1.000000  \n...               ...          ...       ...  \n3750               US            L  1.000000  \n3751               US            L  1.000000  \n3752               US            S  1.000000  \n3753               US            L  1.000000  \n3754               IN            L  0.013524  \n\n[3753 rows x 12 columns]",
      "text/html": "<div>\n<style scoped>\n    .dataframe tbody tr th:only-of-type {\n        vertical-align: middle;\n    }\n\n    .dataframe tbody tr th {\n        vertical-align: top;\n    }\n\n    .dataframe thead th {\n        text-align: right;\n    }\n</style>\n<table border=\"1\" class=\"dataframe\">\n  <thead>\n    <tr style=\"text-align: right;\">\n      <th></th>\n      <th>work_year</th>\n      <th>experience_level</th>\n      <th>employment_type</th>\n      <th>job_title</th>\n      <th>salary</th>\n      <th>salary_currency</th>\n      <th>salary_in_usd</th>\n      <th>employee_residence</th>\n      <th>remote_ratio</th>\n      <th>company_location</th>\n      <th>company_size</th>\n      <th>ex_rate</th>\n    </tr>\n  </thead>\n  <tbody>\n    <tr>\n      <th>0</th>\n      <td>2023</td>\n      <td>SE</td>\n      <td>FT</td>\n      <td>Principal Data Scientist</td>\n      <td>80000</td>\n      <td>EUR</td>\n      <td>85847.0</td>\n      <td>ES</td>\n      <td>100</td>\n      <td>ES</td>\n      <td>L</td>\n      <td>1.073087</td>\n    </tr>\n    <tr>\n      <th>1</th>\n      <td>2023</td>\n      <td>MI</td>\n      <td>CT</td>\n      <td>ML Engineer</td>\n      <td>30000</td>\n      <td>USD</td>\n      <td>30000.0</td>\n      <td>US</td>\n      <td>100</td>\n      <td>US</td>\n      <td>S</td>\n      <td>1.000000</td>\n    </tr>\n    <tr>\n      <th>2</th>\n      <td>2023</td>\n      <td>MI</td>\n      <td>CT</td>\n      <td>ML Engineer</td>\n      <td>25500</td>\n      <td>USD</td>\n      <td>25500.0</td>\n      <td>US</td>\n      <td>100</td>\n      <td>US</td>\n      <td>S</td>\n      <td>1.000000</td>\n    </tr>\n    <tr>\n      <th>3</th>\n      <td>2023</td>\n      <td>SE</td>\n      <td>FT</td>\n      <td>Data Scientist</td>\n      <td>175000</td>\n      <td>USD</td>\n      <td>175000.0</td>\n      <td>CA</td>\n      <td>100</td>\n      <td>CA</td>\n      <td>M</td>\n      <td>1.000000</td>\n    </tr>\n    <tr>\n      <th>4</th>\n      <td>2023</td>\n      <td>SE</td>\n      <td>FT</td>\n      <td>Data Scientist</td>\n      <td>120000</td>\n      <td>USD</td>\n      <td>120000.0</td>\n      <td>CA</td>\n      <td>100</td>\n      <td>CA</td>\n      <td>M</td>\n      <td>1.000000</td>\n    </tr>\n    <tr>\n      <th>...</th>\n      <td>...</td>\n      <td>...</td>\n      <td>...</td>\n      <td>...</td>\n      <td>...</td>\n      <td>...</td>\n      <td>...</td>\n      <td>...</td>\n      <td>...</td>\n      <td>...</td>\n      <td>...</td>\n      <td>...</td>\n    </tr>\n    <tr>\n      <th>3750</th>\n      <td>2020</td>\n      <td>SE</td>\n      <td>FT</td>\n      <td>Data Scientist</td>\n      <td>412000</td>\n      <td>USD</td>\n      <td>412000.0</td>\n      <td>US</td>\n      <td>100</td>\n      <td>US</td>\n      <td>L</td>\n      <td>1.000000</td>\n    </tr>\n    <tr>\n      <th>3751</th>\n      <td>2021</td>\n      <td>MI</td>\n      <td>FT</td>\n      <td>Principal Data Scientist</td>\n      <td>151000</td>\n      <td>USD</td>\n      <td>151000.0</td>\n      <td>US</td>\n      <td>100</td>\n      <td>US</td>\n      <td>L</td>\n      <td>1.000000</td>\n    </tr>\n    <tr>\n      <th>3752</th>\n      <td>2020</td>\n      <td>EN</td>\n      <td>FT</td>\n      <td>Data Scientist</td>\n      <td>105000</td>\n      <td>USD</td>\n      <td>105000.0</td>\n      <td>US</td>\n      <td>100</td>\n      <td>US</td>\n      <td>S</td>\n      <td>1.000000</td>\n    </tr>\n    <tr>\n      <th>3753</th>\n      <td>2020</td>\n      <td>EN</td>\n      <td>CT</td>\n      <td>Business Data Analyst</td>\n      <td>100000</td>\n      <td>USD</td>\n      <td>100000.0</td>\n      <td>US</td>\n      <td>100</td>\n      <td>US</td>\n      <td>L</td>\n      <td>1.000000</td>\n    </tr>\n    <tr>\n      <th>3754</th>\n      <td>2021</td>\n      <td>SE</td>\n      <td>FT</td>\n      <td>Data Science Manager</td>\n      <td>7000000</td>\n      <td>INR</td>\n      <td>94665.0</td>\n      <td>IN</td>\n      <td>50</td>\n      <td>IN</td>\n      <td>L</td>\n      <td>0.013524</td>\n    </tr>\n  </tbody>\n</table>\n<p>3753 rows × 12 columns</p>\n</div>"
     },
     "execution_count": 107,
     "metadata": {},
     "output_type": "execute_result"
    }
   ],
   "source": [
    "# Ваш код:\n",
    "df[\"ex_rate\"] = df[\"salary_in_usd\"] / df[\"salary\"]\n",
    "\n",
    "# словари со средними курсами валют(за год и за все время)\n",
    "ex_rates_by_year = df.groupby([\"work_year\", \"salary_currency\"])[\"ex_rate\"].mean().to_dict()\n",
    "ex_rates = df.groupby([\"salary_currency\"])[\"ex_rate\"].mean().to_dict()\n",
    "\n",
    "import math\n",
    "\n",
    "def set_empty_salary_in_usd(row):\n",
    "    if math.isnan(row.salary_in_usd):\n",
    "        ex_rate = ex_rates_by_year[(row.work_year, row.salary_currency)]\n",
    "        if math.isnan(ex_rate):\n",
    "            ex_rate = ex_rates[row.salary_currency]\n",
    "        return ex_rate * row.salary\n",
    "    return row.salary_in_usd\n",
    "\n",
    "df[\"salary_in_usd\"] = df.apply(set_empty_salary_in_usd, axis=1)\n",
    "df = df.dropna(subset=[\"salary_in_usd\"])\n",
    "df\n"
   ]
  },
  {
   "cell_type": "markdown",
   "id": "969e0d2c-ac1d-4ec9-93d7-28d34468d32c",
   "metadata": {},
   "source": [
    "Дополнительно: попробуйте свести данные в столбце `job_title` к 4 основным профессиям (Data Scientist, Data Analyst, Data Engineer, ML Engineer), где это возможно."
   ]
  },
  {
   "cell_type": "code",
   "execution_count": 136,
   "id": "7b5f4718-f5d3-4f98-b4fd-cb409d72df0a",
   "metadata": {
    "ExecuteTime": {
     "end_time": "2023-10-15T11:26:40.782732749Z",
     "start_time": "2023-10-15T11:26:40.736327483Z"
    }
   },
   "outputs": [
    {
     "data": {
      "text/plain": "job_title\nData Engineer     1276\nData Scientist    1209\nData Analyst       839\nML Engineer        431\nName: count, dtype: int64"
     },
     "execution_count": 136,
     "metadata": {},
     "output_type": "execute_result"
    }
   ],
   "source": [
    "# Ваш код:\n",
    "def unify_job_title(name):\n",
    "    if (\n",
    "        \"Data\" in name\n",
    "        and (\n",
    "            \"Engineer\" in name\n",
    "            or \"Architect\" in name\n",
    "            or \"Manager\" in name\n",
    "            or \"Head\" in name\n",
    "            or \"Modeler\" in name\n",
    "            or \"Strategist\" in name\n",
    "            or \"Specialist\" in name\n",
    "            or \"Lead\" in name\n",
    "            or \"Management\" in name\n",
    "        )\n",
    "    ) or \"ETL\" in name:\n",
    "        return \"Data Engineer\"\n",
    "    elif (\n",
    "        \"Scientist\" in name\n",
    "        or \"Science\" in name\n",
    "        or \"Research Engineer\" in name\n",
    "    ):\n",
    "        return \"Data Scientist\"\n",
    "    elif (\n",
    "        \"Analyst\" in name\n",
    "        or \"Analytics\" in name\n",
    "        or \"BI\" in name\n",
    "        or \"Business Intelligence\" in name\n",
    "    ):\n",
    "        return \"Data Analyst\"\n",
    "    elif (\n",
    "        \"Machine Learning\" in name\n",
    "        or \"ML Engineer\" in name\n",
    "        or \"NLP\" in name\n",
    "        or \"Deep Learning\" in name\n",
    "        or \"Computer Vision\" in name\n",
    "        or \"AI\" in name\n",
    "        or \"MLOps\" in name\n",
    "        or \"Autonomous Vehicle Technician\" in name\n",
    "    ):\n",
    "        return \"ML Engineer\"\n",
    "    else:\n",
    "        return name\n",
    "\n",
    "df[\"job_title\"] = df[\"job_title\"].apply(unify_job_title)\n",
    "df[\"job_title\"].value_counts()"
   ]
  },
  {
   "cell_type": "markdown",
   "id": "c2013533-f2d1-41d3-acfd-fc7269f4fb5c",
   "metadata": {},
   "source": [
    "Сделайте выборку за 2023 год. Постройте по ней сводную таблицу, сгруппированную по профессии (`job_title`), со средней и медианной зарплатой в долларах. Не забывайте также указать количество. (Если у вас не получилось привести в порядок столбец `job_title`, выведите только 4 самых распространенных профессии.)"
   ]
  },
  {
   "cell_type": "code",
   "execution_count": 137,
   "id": "f3133ece-ed1c-4d3f-bebe-e91b4573ed1a",
   "metadata": {
    "ExecuteTime": {
     "end_time": "2023-10-15T11:32:02.709157404Z",
     "start_time": "2023-10-15T11:32:02.662426137Z"
    }
   },
   "outputs": [
    {
     "data": {
      "text/plain": "                work_year         salary  salary_in_usd  remote_ratio\njob_title                                                            \nData Analyst       2023.0  133412.495050  121472.870253     38.490099\nData Engineer      2023.0  160233.755738  151353.939203     35.573770\nData Scientist     2023.0  179115.153707  162202.373171     31.283906\nML Engineer        2023.0  163252.403670  166848.756250     28.669725",
      "text/html": "<div>\n<style scoped>\n    .dataframe tbody tr th:only-of-type {\n        vertical-align: middle;\n    }\n\n    .dataframe tbody tr th {\n        vertical-align: top;\n    }\n\n    .dataframe thead th {\n        text-align: right;\n    }\n</style>\n<table border=\"1\" class=\"dataframe\">\n  <thead>\n    <tr style=\"text-align: right;\">\n      <th></th>\n      <th>work_year</th>\n      <th>salary</th>\n      <th>salary_in_usd</th>\n      <th>remote_ratio</th>\n    </tr>\n    <tr>\n      <th>job_title</th>\n      <th></th>\n      <th></th>\n      <th></th>\n      <th></th>\n    </tr>\n  </thead>\n  <tbody>\n    <tr>\n      <th>Data Analyst</th>\n      <td>2023.0</td>\n      <td>133412.495050</td>\n      <td>121472.870253</td>\n      <td>38.490099</td>\n    </tr>\n    <tr>\n      <th>Data Engineer</th>\n      <td>2023.0</td>\n      <td>160233.755738</td>\n      <td>151353.939203</td>\n      <td>35.573770</td>\n    </tr>\n    <tr>\n      <th>Data Scientist</th>\n      <td>2023.0</td>\n      <td>179115.153707</td>\n      <td>162202.373171</td>\n      <td>31.283906</td>\n    </tr>\n    <tr>\n      <th>ML Engineer</th>\n      <td>2023.0</td>\n      <td>163252.403670</td>\n      <td>166848.756250</td>\n      <td>28.669725</td>\n    </tr>\n  </tbody>\n</table>\n</div>"
     },
     "execution_count": 137,
     "metadata": {},
     "output_type": "execute_result"
    }
   ],
   "source": [
    "# Ваш код:\n",
    "df[df[\"work_year\"] == 2023].groupby(\"job_title\").agg(\"mean\", \"median\", \"count\")\n"
   ]
  },
  {
   "cell_type": "markdown",
   "id": "baa395e7-a963-482d-9218-fe1a0518bcc9",
   "metadata": {},
   "source": [
    "Теперь давайте получше категоризируем зарплаты. Изучите самостоятельно документацию к функциям pandas [cut](https://pandas.pydata.org/pandas-docs/stable/reference/api/pandas.cut.html) и [qcut](https://pandas.pydata.org/pandas-docs/stable/reference/api/pandas.qcut.html). Используйте их, чтобы разбить зарплаты на три или больше категорий (например: `Low`, `Medium`, `High`) и запишите их в столбец `salary_range`."
   ]
  },
  {
   "cell_type": "markdown",
   "id": "4811add4-4ef3-4075-8ce7-f18319636011",
   "metadata": {},
   "source": [
    "Сделайте сводную таблицу по профессиям за 2023 год, где будут выведены:\n",
    "- число работников в профессии;\n",
    "- самая часто встречающаяся категория зарплаты.\n",
    "\n",
    "<details>\n",
    "<summary>Подсказка (нажмите, чтобы посмотреть):</summary>\n",
    "<code>lambda x : pd.Series.mode(x)</code>\n",
    "</details>"
   ]
  },
  {
   "cell_type": "code",
   "execution_count": 155,
   "id": "d1d983de-3164-414e-8a4b-f8445f12a2c9",
   "metadata": {
    "ExecuteTime": {
     "end_time": "2023-10-15T11:48:06.361349327Z",
     "start_time": "2023-10-15T11:48:06.344471948Z"
    }
   },
   "outputs": [
    {
     "data": {
      "text/plain": "                count <lambda_0>\njob_title                       \nData Analyst      316          L\nData Engineer     477          L\nData Scientist    410          M\nML Engineer       160          L",
      "text/html": "<div>\n<style scoped>\n    .dataframe tbody tr th:only-of-type {\n        vertical-align: middle;\n    }\n\n    .dataframe tbody tr th {\n        vertical-align: top;\n    }\n\n    .dataframe thead th {\n        text-align: right;\n    }\n</style>\n<table border=\"1\" class=\"dataframe\">\n  <thead>\n    <tr style=\"text-align: right;\">\n      <th></th>\n      <th>count</th>\n      <th>&lt;lambda_0&gt;</th>\n    </tr>\n    <tr>\n      <th>job_title</th>\n      <th></th>\n      <th></th>\n    </tr>\n  </thead>\n  <tbody>\n    <tr>\n      <th>Data Analyst</th>\n      <td>316</td>\n      <td>L</td>\n    </tr>\n    <tr>\n      <th>Data Engineer</th>\n      <td>477</td>\n      <td>L</td>\n    </tr>\n    <tr>\n      <th>Data Scientist</th>\n      <td>410</td>\n      <td>M</td>\n    </tr>\n    <tr>\n      <th>ML Engineer</th>\n      <td>160</td>\n      <td>L</td>\n    </tr>\n  </tbody>\n</table>\n</div>"
     },
     "execution_count": 155,
     "metadata": {},
     "output_type": "execute_result"
    }
   ],
   "source": [
    "# Ваш код:\n",
    "df[\"salary_range\"] = pd.cut(df[\"salary_in_usd\"], 3, labels=[\"L\", \"M\", \"H\"])\n",
    "df[df[\"work_year\"] == 2023].groupby(\"job_title\")[\"salary_range\"].agg([\"count\", lambda x : pd.Series.mode(x)])"
   ]
  },
  {
   "cell_type": "markdown",
   "id": "f711b85c-2f3e-43aa-bf7f-f6daeed757e2",
   "metadata": {},
   "source": [
    "Проверьте себя: совпадают ли категории с реальными цифрами?"
   ]
  },
  {
   "cell_type": "code",
   "execution_count": 159,
   "outputs": [
    {
     "data": {
      "text/plain": "job_title       salary_range\nData Analyst    L               239\n                M                76\n                H                 1\nData Engineer   L               271\n                M               200\n                H                 6\nData Scientist  M               205\n                L               197\n                H                 8\nML Engineer     L                88\n                M                66\n                H                 6\nName: count, dtype: int64"
     },
     "execution_count": 159,
     "metadata": {},
     "output_type": "execute_result"
    }
   ],
   "source": [
    "df[df[\"work_year\"] == 2023].groupby(\"job_title\")[\"salary_range\"].value_counts()\n",
    "# Выводы верны."
   ],
   "metadata": {
    "collapsed": false,
    "ExecuteTime": {
     "end_time": "2023-10-15T11:50:04.633200675Z",
     "start_time": "2023-10-15T11:50:04.591631658Z"
    }
   },
   "id": "9a4c135334aa7bb5"
  },
  {
   "cell_type": "code",
   "execution_count": null,
   "outputs": [],
   "source": [],
   "metadata": {
    "collapsed": false
   },
   "id": "560944def166d30f"
  }
 ],
 "metadata": {
  "kernelspec": {
   "display_name": "Python 3 (ipykernel)",
   "language": "python",
   "name": "python3"
  },
  "language_info": {
   "codemirror_mode": {
    "name": "ipython",
    "version": 3
   },
   "file_extension": ".py",
   "mimetype": "text/x-python",
   "name": "python",
   "nbconvert_exporter": "python",
   "pygments_lexer": "ipython3",
   "version": "3.11.3"
  },
  "widgets": {
   "application/vnd.jupyter.widget-state+json": {
    "state": {},
    "version_major": 2,
    "version_minor": 0
   }
  }
 },
 "nbformat": 4,
 "nbformat_minor": 5
}
